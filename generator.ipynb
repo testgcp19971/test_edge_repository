{
 "cells": [
  {
   "cell_type": "code",
   "execution_count": 1,
   "metadata": {},
   "outputs": [
    {
     "name": "stdout",
     "output_type": "stream",
     "text": [
      "Generated 30 entries in data_file_ger.csv\n",
      "Generated 30 entries in data_file_spa.csv\n",
      "Generated 30 entries in data_file_rom.csv\n",
      "Generated 30 entries in data_file_rus.csv\n"
     ]
    }
   ],
   "source": [
    "import csv\n",
    "import random\n",
    "from datetime import datetime, timedelta\n",
    "\n",
    "# Number of entries per file\n",
    "num_entries = 30\n",
    "\n",
    "# Common date interval for all files\n",
    "start_date = datetime(2023, 9, 1)\n",
    "end_date = datetime(2023, 9, 30)\n",
    "date_interval = (end_date - start_date) / num_entries\n",
    "\n",
    "# Generate and save CSV files\n",
    "for file_index in [\"ger\", \"spa\", \"rom\", \"rus\"]:  # Create 3 files\n",
    "    file_name = f\"data_file_{file_index}.csv\"\n",
    "    \n",
    "    with open(file_name, 'w', newline='') as csvfile:\n",
    "        csv_writer = csv.writer(csvfile)\n",
    "        \n",
    "        # Write header\n",
    "        csv_writer.writerow([\"art_no\", \"var_tu_key\", \"store_id\", \"date_of_day\", \"sell_qty_colli\"])\n",
    "        \n",
    "        # Generate data\n",
    "        for i in range(num_entries):\n",
    "            art_no = f\"ART{i+1}\"\n",
    "            var_tu_key = random.choice([f\"100{i}\", f\"200{i}\"])\n",
    "            store_id = random.randint(10, 50)\n",
    "            date_of_day = start_date + (i * date_interval)\n",
    "            sell_qty_colli = random.randint(1, 50)\n",
    "            \n",
    "            csv_writer.writerow([art_no, var_tu_key, store_id, date_of_day.strftime('%Y-%m-%d'), sell_qty_colli])\n",
    "    \n",
    "    print(f\"Generated {num_entries} entries in {file_name}\")\n"
   ]
  }
 ],
 "metadata": {
  "kernelspec": {
   "display_name": "Python 3",
   "language": "python",
   "name": "python3"
  },
  "language_info": {
   "codemirror_mode": {
    "name": "ipython",
    "version": 3
   },
   "file_extension": ".py",
   "mimetype": "text/x-python",
   "name": "python",
   "nbconvert_exporter": "python",
   "pygments_lexer": "ipython3",
   "version": "3.11.0"
  },
  "orig_nbformat": 4
 },
 "nbformat": 4,
 "nbformat_minor": 2
}
